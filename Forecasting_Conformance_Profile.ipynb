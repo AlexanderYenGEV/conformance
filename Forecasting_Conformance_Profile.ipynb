{
 "cells": [
  {
   "cell_type": "markdown",
   "metadata": {},
   "source": [
    "### Forecasting Conformance Profile\n",
    "\n",
    "This notebook is used to validate that an API conforms to the TROLIE specification for [Forecasting](https://trolie.energy/spec#tag/Forecasting)."
   ]
  },
  {
   "cell_type": "code",
   "execution_count": null,
   "metadata": {},
   "outputs": [],
   "source": [
    "%%bash\n",
    "# define the URL of the API under test\n",
    "export TROLIE_BASE_URL='http://localhost:4010'\n",
    " \n",
    "# set the timezone of the TROLIE *client*\n",
    "# https://en.wikipedia.org/wiki/List_of_tz_database_time_zones\n",
    "export TZ='America/Phoenix'\n",
    "\n",
    "pytest --rootdir=/workspace -m Forecasting"
   ]
  }
 ],
 "metadata": {
  "kernelspec": {
   "display_name": "Python 3",
   "language": "python",
   "name": "python3"
  },
  "language_info": {
   "codemirror_mode": {
    "name": "ipython",
    "version": 3
   },
   "file_extension": ".py",
   "mimetype": "text/x-python",
   "name": "python",
   "nbconvert_exporter": "python",
   "pygments_lexer": "ipython3",
   "version": "3.12.7"
  }
 },
 "nbformat": 4,
 "nbformat_minor": 2
}
