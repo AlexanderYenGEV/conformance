{
 "cells": [
  {
   "cell_type": "markdown",
   "metadata": {},
   "source": [
    "### Forecasting Conformance Profile\n",
    "\n",
    "This notebook is used to validate that an API conforms to the TROLIE specification for [Forecasting](https://trolie.energy/spec#tag/Forecasting)."
   ]
  },
  {
   "cell_type": "code",
   "execution_count": 9,
   "metadata": {},
   "outputs": [
    {
     "name": "stdout",
     "output_type": "stream",
     "text": [
      "\u001b[1m============================= test session starts ==============================\u001b[0m\n",
      "platform linux -- Python 3.13.1, pytest-8.3.4, pluggy-1.5.0\n",
      "rootdir: /workspace\n",
      "configfile: pytest.ini\n",
      "plugins: bdd-7.3.0, env-1.1.5, anyio-4.8.0\n",
      "collected 47 items / 4 deselected / 43 selected\n",
      "\n",
      "test/forecasting/test_conformance.py \u001b[32m.\u001b[0m\u001b[32m.\u001b[0m\u001b[32m.\u001b[0m\u001b[32m.\u001b[0m\u001b[32m.\u001b[0m\u001b[32m.\u001b[0m\u001b[32m.\u001b[0m\u001b[32m.\u001b[0m\u001b[32m.\u001b[0m\u001b[32m.\u001b[0m\u001b[32m.\u001b[0m\u001b[32m.\u001b[0m\u001b[32m.\u001b[0m\u001b[32m.\u001b[0m\u001b[32m.\u001b[0m\u001b[32m.\u001b[0m\u001b[32m.\u001b[0m\u001b[32m.\u001b[0m\u001b[32m.\u001b[0m\u001b[33ms\u001b[0m\u001b[33ms\u001b[0m\u001b[33ms\u001b[0m\u001b[33ms\u001b[0m\u001b[33ms\u001b[0m\u001b[33ms\u001b[0m\u001b[33ms\u001b[0m\u001b[33ms\u001b[0m\u001b[33ms\u001b[0m\u001b[33ms\u001b[0m\u001b[33ms\u001b[0m\u001b[32m.\u001b[0m\u001b[32m.\u001b[0m\u001b[32m.\u001b[0m\u001b[32m.\u001b[0m\u001b[32m.\u001b[0m\u001b[32m [ 81%]\n",
      "\u001b[0m\u001b[32m.\u001b[0m\u001b[32m.\u001b[0m\u001b[33ms\u001b[0m\u001b[33ms\u001b[0m\u001b[33ms\u001b[0m\u001b[33ms\u001b[0m\u001b[33ms\u001b[0m\u001b[32m.\u001b[0m\u001b[32m                                                                 [100%]\u001b[0m\n",
      "\n",
      "\u001b[32m================ \u001b[32m\u001b[1m27 passed\u001b[0m, \u001b[33m16 skipped\u001b[0m, \u001b[33m4 deselected\u001b[0m\u001b[32m in 28.99s\u001b[0m\u001b[32m =================\u001b[0m\n"
     ]
    }
   ],
   "source": [
    "%%bash\n",
    "# define the URL of the API under test\n",
    "export TROLIE_BASE_URL='http://localhost:4010'\n",
    " \n",
    "# set the timezone of the TROLIE *client*\n",
    "# https://en.wikipedia.org/wiki/List_of_tz_database_time_zones\n",
    "export TZ='America/Phoenix'\n",
    "\n",
    "pytest --rootdir=/workspace -m \"forecasting and not requires_model\""
   ]
  }
 ],
 "metadata": {
  "kernelspec": {
   "display_name": "Python 3",
   "language": "python",
   "name": "python3"
  },
  "language_info": {
   "codemirror_mode": {
    "name": "ipython",
    "version": 3
   },
   "file_extension": ".py",
   "mimetype": "text/x-python",
   "name": "python",
   "nbconvert_exporter": "python",
   "pygments_lexer": "ipython3",
   "version": "3.13.1"
  }
 },
 "nbformat": 4,
 "nbformat_minor": 2
}
